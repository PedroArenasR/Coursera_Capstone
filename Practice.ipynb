{
 "cells": [
  {
   "cell_type": "code",
   "execution_count": 1,
   "metadata": {},
   "outputs": [
    {
     "name": "stdout",
     "output_type": "stream",
     "text": [
      "Libraries imported.\n"
     ]
    }
   ],
   "source": [
    "import numpy as np # library to handle data in a vectorized manner\n",
    "\n",
    "import pandas as pd # library for data analsysis\n",
    "pd.set_option('display.max_columns', None)\n",
    "pd.set_option('display.max_rows', None)\n",
    "\n",
    "import json # library to handle JSON files\n",
    "\n",
    "#!conda install -c conda-forge geopy --yes # uncomment this line if you haven't completed the Foursquare API lab\n",
    "from geopy.geocoders import Nominatim # convert an address into latitude and longitude values\n",
    "\n",
    "import requests # library to handle requests\n",
    "from pandas.io.json import json_normalize # tranform JSON file into a pandas dataframe\n",
    "\n",
    "# Matplotlib and associated plotting modules\n",
    "import matplotlib.cm as cm\n",
    "import matplotlib.colors as colors\n",
    "\n",
    "# import k-means from clustering stage\n",
    "from sklearn.cluster import KMeans\n",
    "\n",
    "#!conda install -c conda-forge folium=0.5.0 --yes # uncomment this line if you haven't completed the Foursquare API lab\n",
    "import folium # map rendering library\n",
    "\n",
    "print('Libraries imported.')"
   ]
  },
  {
   "cell_type": "markdown",
   "metadata": {},
   "source": [
    "1 . Import Libraries"
   ]
  },
  {
   "cell_type": "code",
   "execution_count": 2,
   "metadata": {},
   "outputs": [
    {
     "name": "stdout",
     "output_type": "stream",
     "text": [
      "Data downloaded!\n"
     ]
    }
   ],
   "source": [
    "!wget -q -O 'toronto_data.html' https://en.wikipedia.org/wiki/List_of_postal_codes_of_Canada:_M\n",
    "print('Data downloaded!')"
   ]
  },
  {
   "cell_type": "markdown",
   "metadata": {},
   "source": [
    "2 . Download the Toronto Postal Code's HTML file of the link shared in Coursera."
   ]
  },
  {
   "cell_type": "code",
   "execution_count": 3,
   "metadata": {},
   "outputs": [],
   "source": [
    "from bs4 import BeautifulSoup"
   ]
  },
  {
   "cell_type": "markdown",
   "metadata": {},
   "source": [
    "3. Import the BeautifulSoup library for extract data from the HTML File."
   ]
  },
  {
   "cell_type": "markdown",
   "metadata": {},
   "source": [
    "4. Create the pandas DataFrame with three columns and use then BeautifulSoup library for extract the Toronto's PostalCode,Borough and Neighborhood.\n",
    "After review the html file, the first table object in the html file contains the data required, the PostalCode, the Borough and the Neighborhood.\n",
    "The implementation extract all the td tags and take groups of tree for insert the data in the Dataframe.\n",
    "The character \\n is reemplaced with a blank."
   ]
  },
  {
   "cell_type": "code",
   "execution_count": 71,
   "metadata": {},
   "outputs": [],
   "source": [
    "##Create the panda Dataframe\n",
    "Codes_Frame = pd.DataFrame(columns=['PostalCode','Borough','Neighborhood'])\n",
    "##Open the file\n",
    "with open(\"toronto_data.html\") as fp:\n",
    "    soup = BeautifulSoup(fp,'html.parser')\n",
    "\n",
    "##Iteration of the TD tags in the HTML File. \n",
    "index_Frame=1\n",
    "i = 1\n",
    "for tag in soup.find_all(\"td\") :    \n",
    "     if i==1:Codes_Frame.loc[index_Frame,'PostalCode']=tag.extract().get_text().replace('\\n','')                    \n",
    "     if i==2:Codes_Frame.loc[index_Frame,'Borough']=tag.extract().get_text().replace('\\n','') \n",
    "     if i==3:Codes_Frame.loc[index_Frame,'Neighborhood']=tag.extract().get_text().replace('\\n','')\n",
    "     i=i+1     \n",
    "     if i==4 : \n",
    "       i=1     \n",
    "       index_Frame=index_Frame + 1            "
   ]
  },
  {
   "cell_type": "code",
   "execution_count": null,
   "metadata": {},
   "outputs": [],
   "source": [
    "Frame_Code=Codes_Frame[(Codes_Frame.PostalCode.str[0:1]==\"M\") & (Codes_Frame.Borough.str[:]!='Not assigned')].sort_values(by='PostalCode')\n",
    "Frame_Code=Frame_Code.groupby(['PostalCode','Borough'])['Neighborhood'].agg(lambda x: list(x)).apply(lambda x: ','.join([str(i) for i in x])).astype(str).to_frame()\n",
    "Frame_Code.reset_index(inplace=True)\n",
    "print(Frame_Code)"
   ]
  },
  {
   "cell_type": "markdown",
   "metadata": {},
   "source": [
    "5. The Dataframe is filtered for the first letter of the Postal Code column considered only then M character and Borough what not equal to 'Not Assigned'.\n",
    "After is sorted the PostalCode column.\n",
    "After the DataFrame is grouped with the hierarchical index PostalCode and Borough, created a new column called Neigborhood\n",
    ", this column contains the neigborhoods grouped by PostalCode and Borough formed with string separated with the ',' character.\n",
    "The index is reset with the method reset_index with then parameter inplace=True, then the PostalCode and Borough index is showed like columns.\n",
    "At the final line is showed the DataFrame's contains."
   ]
  }
 ],
 "metadata": {
  "kernelspec": {
   "display_name": "Python 3",
   "language": "python",
   "name": "python3"
  },
  "language_info": {
   "codemirror_mode": {
    "name": "ipython",
    "version": 3
   },
   "file_extension": ".py",
   "mimetype": "text/x-python",
   "name": "python",
   "nbconvert_exporter": "python",
   "pygments_lexer": "ipython3",
   "version": "3.6.8"
  }
 },
 "nbformat": 4,
 "nbformat_minor": 2
}
